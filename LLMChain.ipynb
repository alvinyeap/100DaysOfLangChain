{
  "cells": [
    {
      "cell_type": "markdown",
      "metadata": {
        "id": "d5sGIePck95B"
      },
      "source": [
        "# Welcome!\n",
        "\n",
        "This is from my #100DaysOfLangChain journey.\n",
        "\n",
        "If you like it this, follow me @ [https://twitter.com/aigen__](https://twitter.com/aigen__)"
      ]
    },
    {
      "cell_type": "markdown",
      "metadata": {
        "id": "iaFQeQPSk95C"
      },
      "source": [
        "# LLMChain\n",
        "\n",
        "LLMChain is the simplest Chain in LangChain. To form an LLMChain, we need to:\n",
        "- Specify a Large Language Model (LLM) to interact with\n",
        "- Create a PromptTemplate that specifies what the Chain should do\n",
        " \n",
        "Once the LLMChain is created, we can run it on some input that we give it, and get a juicy response!"
      ]
    },
    {
      "cell_type": "code",
      "execution_count": null,
      "metadata": {
        "vscode": {
          "languageId": "plaintext"
        },
        "id": "88PzhHCxk95D"
      },
      "outputs": [],
      "source": [
        "# Install LangChain and OpenAI packages\n",
        "!pip install langchain\n",
        "!pip install openai"
      ]
    },
    {
      "cell_type": "code",
      "source": [
        "from langchain.prompts import PromptTemplate\n",
        "from langchain.llms import OpenAI\n",
        "from langchain.chains import LLMChain\n",
        "\n",
        "# You need to create an account with OpenAI\n",
        "# and get an API Key. You will get some free\n",
        "# credits when you sign up!\n",
        "OPENAI_API_KEY = \"[Your OpenAI API Key]\"\n",
        "\n",
        "# Specify which LLM we are going to use.\n",
        "llm = OpenAI(\n",
        "    # We're going to use text-davinci-003\n",
        "    # which is the largest GPT-3 LLM model\n",
        "    model_name=\"text-davinci-003\",\n",
        "    # We're going to turn the temperature\n",
        "    # up which makes the LLM more 'creative'\n",
        "    temperature=0.9,\n",
        "    max_tokens=512,\n",
        "    openai_api_key=OPENAI_API_KEY\n",
        ")\n",
        "\n",
        "# We're creating a prompt that tells the LLM\n",
        "# to write a song about an input animal.\n",
        "prompt = PromptTemplate(\n",
        "    input_variables=[\"animal\"],\n",
        "    template=\"Write a song with 3 verses about how great {animal} are.\",\n",
        ")\n",
        "\n",
        "# Now form the actual LLMChain\n",
        "llm_chain = LLMChain(llm=llm, prompt=prompt)"
      ],
      "metadata": {
        "id": "Wy8Q2_Sgk_y7"
      },
      "execution_count": 11,
      "outputs": []
    },
    {
      "cell_type": "code",
      "source": [
        "response = llm_chain.run(\"llamas\")\n",
        "print(response)"
      ],
      "metadata": {
        "colab": {
          "base_uri": "https://localhost:8080/"
        },
        "id": "pAAd2C8lnKzZ",
        "outputId": "fb907c0a-9164-4e99-b41d-26bbf8f11b2c"
      },
      "execution_count": 12,
      "outputs": [
        {
          "output_type": "stream",
          "name": "stdout",
          "text": [
            "\n",
            "\n",
            "Verse 1 \n",
            "Llamas, they've been called the camels of the Andes\n",
            "Their faces so sweet and furry, their fur so lush and dense\n",
            "Their personality's amazing, so intelligent and true\n",
            "We owe them all respect, they deserve so much more due\n",
            "\n",
            "Chorus \n",
            "Hats off to llamas, they're so grand and fine\n",
            "Hail to their greatness, a majestic kind\n",
            "Their grace and beauty will never fade\n",
            "A llama's proud stance cannot be overplayed\n",
            "\n",
            "Verse 2\n",
            "Their power and strength are widely known\n",
            "From the Incan culture, they've always been shown\n",
            "Carrying bundles and loads, to get from place to place\n",
            "Carrying our burdens, with such gentleness and grace\n",
            "\n",
            "Chorus \n",
            "Hats off to llamas, they're so grand and fine\n",
            "Hail to their greatness, a majestic kind\n",
            "Their grace and beauty will never fade\n",
            "A llama's proud stance cannot be overplayed\n",
            "\n",
            "Verse 3\n",
            "They can be so fun, with their silly poses\n",
            "Creating memories that one never supposes\n",
            "We love them so much, no matter what we do\n",
            "The majesty of the llama, that is something that is true\n",
            "\n",
            "Chorus \n",
            "Hats off to llamas, they're so grand and fine\n",
            "Hail to their greatness, a majestic kind\n",
            "Their grace and beauty will never fade\n",
            "A llama's proud stance cannot be overplayed\n"
          ]
        }
      ]
    },
    {
      "cell_type": "markdown",
      "source": [
        "---\n",
        "If you learned something, consider following me at [https://twitter.com/aigen__](https://twitter.com/aigen__)"
      ],
      "metadata": {
        "id": "buTBF6s8oU5G"
      }
    }
  ],
  "metadata": {
    "language_info": {
      "name": "python"
    },
    "orig_nbformat": 4,
    "colab": {
      "provenance": [],
      "toc_visible": true
    },
    "kernelspec": {
      "name": "python3",
      "display_name": "Python 3"
    },
    "gpuClass": "standard"
  },
  "nbformat": 4,
  "nbformat_minor": 0
}