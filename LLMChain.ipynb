{
 "cells": [
  {
   "attachments": {},
   "cell_type": "markdown",
   "metadata": {},
   "source": [
    "# Welcome!\n",
    "\n",
    "This is from my #100DaysOfLangChain journey.\n",
    "\n",
    "If you like it this, follow me @ https://twitter.com/aigen__ "
   ]
  },
  {
   "attachments": {},
   "cell_type": "markdown",
   "metadata": {},
   "source": [
    "# LLMChain\n",
    "\n",
    "LLMChain is the simplest Chain in LangChain. To form an LLMChain, we need to:\n",
    "- Specify a Large Language Model (LLM) to interact with\n",
    "- Create a PromptTemplate that specifies what the Chain should do\n",
    " \n",
    "Once the LLMChain is created, we can run it on some input that we give it, and get a juicy response!"
   ]
  },
  {
   "cell_type": "code",
   "execution_count": null,
   "metadata": {
    "vscode": {
     "languageId": "plaintext"
    }
   },
   "outputs": [],
   "source": [
    "# Install LangChain and OpenAI packages\n",
    "!pip install langchain\n",
    "!pip install openai"
   ]
  }
 ],
 "metadata": {
  "language_info": {
   "name": "python"
  },
  "orig_nbformat": 4
 },
 "nbformat": 4,
 "nbformat_minor": 2
}
