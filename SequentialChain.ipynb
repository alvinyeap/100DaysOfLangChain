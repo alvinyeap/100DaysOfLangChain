{
  "nbformat": 4,
  "nbformat_minor": 0,
  "metadata": {
    "colab": {
      "provenance": [],
      "authorship_tag": "ABX9TyPf7zd9p8IgGKcJBjm60R0Q"
    },
    "kernelspec": {
      "name": "python3",
      "display_name": "Python 3"
    },
    "language_info": {
      "name": "python"
    }
  },
  "cells": [
    {
      "cell_type": "markdown",
      "source": [
        "# Welcome!\n",
        "\n",
        "This is from my #100DaysOfLangChain journey.\n",
        "\n",
        "If you like it this, follow me @ [https://twitter.com/aigen__](https://twitter.com/aigen__)"
      ],
      "metadata": {
        "id": "ZJD5N-T9rwuN"
      }
    },
    {
      "cell_type": "markdown",
      "source": [
        "# SequentialChain\n",
        "\n",
        "SequentialChain allows us to link multiple chains together. To form a SequentialChain, we need to:\n",
        "- Form several chains, like 2 LLMChains as we'll do here\n",
        "- Form the SequentialChain from these chains\n",
        "\n",
        "In the SequentialChain below, we're going to tell the LLM to write a song about an animal, and write a 5-year-old child's review for the song."
      ],
      "metadata": {
        "id": "mC5-u0JCr1fK"
      }
    },
    {
      "cell_type": "code",
      "source": [
        "# Install LangChain and OpenAI packages\n",
        "!pip install langchain\n",
        "!pip install openai"
      ],
      "metadata": {
        "id": "vI_qvKrorxUE"
      },
      "execution_count": null,
      "outputs": []
    },
    {
      "cell_type": "code",
      "source": [
        "from langchain.prompts import PromptTemplate\n",
        "from langchain.llms import OpenAI\n",
        "from langchain.chains import LLMChain, SequentialChain\n",
        "\n",
        "# You need to create an account with OpenAI\n",
        "# and get an API Key. You will get some free\n",
        "# credits when you sign up!\n",
        "OPENAI_API_KEY = \"[Your OpenAI API Key]\"\n",
        "\n",
        "# Specify which LLM we are going to use.\n",
        "llm = OpenAI(\n",
        "    # We're going to use text-davinci-003\n",
        "    # which is the largest GPT-3 LLM model\n",
        "    model_name=\"text-davinci-003\",\n",
        "    # We're going to turn the temperature\n",
        "    # up which makes the LLM more 'creative'\n",
        "    temperature=0.9,\n",
        "    max_tokens=512,\n",
        "    openai_api_key=OPENAI_API_KEY\n",
        ")"
      ],
      "metadata": {
        "id": "YRDWyt-etSEf"
      },
      "execution_count": 10,
      "outputs": []
    },
    {
      "cell_type": "code",
      "source": [
        "# We're creating a prompt that tells the LLM\n",
        "# to write a song about an input animal.\n",
        "prompt = PromptTemplate(\n",
        "    input_variables=[\"animal\"],\n",
        "    template=\"Write a song with 3 verses about how great {animal} are.\",\n",
        ")\n",
        "\n",
        "# Now form the song LLMChain, we specify that the output\n",
        "# will be placed into a variable called \"song\"\n",
        "song_chain = LLMChain(\n",
        "    llm=llm, \n",
        "    prompt=prompt, \n",
        "    output_key=\"song\",\n",
        "    verbose=True\n",
        ")"
      ],
      "metadata": {
        "id": "4cWBp9MlteGG"
      },
      "execution_count": 16,
      "outputs": []
    },
    {
      "cell_type": "code",
      "source": [
        "# We're creating a prompt that tells the LLM\n",
        "# to write a 5-year-old's review about a song\n",
        "prompt = PromptTemplate(\n",
        "    input_variables=[\"song\"],\n",
        "    template=\"Here is a song:\\n\\n{song}\\n\\nA 5-year-old child's review of above song:\",\n",
        ")\n",
        "\n",
        "# Now form the review LLMChain, we specify that the output\n",
        "# will be placed into a variable called \"review\"\n",
        "review_chain = LLMChain(\n",
        "    llm=llm, \n",
        "    prompt=prompt, \n",
        "    output_key=\"review\",\n",
        "    verbose=True\n",
        ")"
      ],
      "metadata": {
        "id": "d6KIUzA_uEwP"
      },
      "execution_count": 17,
      "outputs": []
    },
    {
      "cell_type": "code",
      "source": [
        "# Now our SequentialChain is formed from the two above LLMChains\n",
        "sequential_chain = SequentialChain(\n",
        "    chains=[song_chain, review_chain],\n",
        "    # The input for the SequentialChain\n",
        "    input_variables=[\"animal\"],\n",
        "    # We want both the song and review as outputs\n",
        "    output_variables=[\"song\", \"review\"],\n",
        "    # And we want to see detailed info as the\n",
        "    # SequentialChain is doing it's thing\n",
        "    verbose=True\n",
        ")"
      ],
      "metadata": {
        "id": "7k97R2JGvkqC"
      },
      "execution_count": 18,
      "outputs": []
    },
    {
      "cell_type": "code",
      "source": [
        "response = sequential_chain({\"animal\":\"llamas\"})\n",
        "print(response[\"review\"])"
      ],
      "metadata": {
        "colab": {
          "base_uri": "https://localhost:8080/"
        },
        "id": "8R3khCwfwbCl",
        "outputId": "53727d12-c438-4780-e818-a7e68d3ccb6f"
      },
      "execution_count": 20,
      "outputs": [
        {
          "output_type": "stream",
          "name": "stdout",
          "text": [
            "\n",
            "\n",
            "\u001b[1m> Entering new SequentialChain chain...\u001b[0m\n",
            "\n",
            "\n",
            "\u001b[1m> Entering new LLMChain chain...\u001b[0m\n",
            "Prompt after formatting:\n",
            "\u001b[32;1m\u001b[1;3mWrite a song with 3 verses about how great llamas are.\u001b[0m\n",
            "\n",
            "\u001b[1m> Finished chain.\u001b[0m\n",
            "\n",
            "\n",
            "\u001b[1m> Entering new LLMChain chain...\u001b[0m\n",
            "Prompt after formatting:\n",
            "\u001b[32;1m\u001b[1;3mHere is a song:\n",
            "\n",
            "\n",
            "\n",
            "Verse 1\n",
            "Llamas are the cutest animals, they stand so tall\n",
            "With their fluffy fur and friendly eyes, they make us smile after all\n",
            "They can be quite comical, and their gentle nature soothes us all\n",
            "Let’s celebrate the llama love, they’re the greatest of them all\n",
            "\n",
            "Chorus\n",
            "Llamas are awesome, so proud and strong\n",
            "They warm our hearts with their love so strong\n",
            "Let’s celebrate their great-ness, they’re one of a kind\n",
            "Our llamas are forever, our llama loves shine\n",
            "\n",
            "Verse 2\n",
            "From the Andes Mountains to the prairies, llama’s everywhere\n",
            "They are some of our best friends, and they have no fear\n",
            "Llamas are so trusting, so loyal, and so kind\n",
            "Whenever we’re near them, we’re sure to never mind\n",
            "\n",
            "Chorus\n",
            "Llamas are awesome, so proud and strong\n",
            "They warm our hearts with their love so strong\n",
            "Let’s celebrate their great-ness, they’re one of a kind\n",
            "Our llamas are forever, our llama loves shine\n",
            "\n",
            "Verse 3\n",
            "From their curly fur to their gentle gaze, llamas bring so much joy\n",
            "No matter where they go, in life they always seem to deploy\n",
            "And although they can be a bit skittish at times, they’re so charming still\n",
            "We’re sure they will always make us smile, with a happy llama thrill\n",
            "\n",
            "Chorus\n",
            "Llamas are awesome, so proud and strong\n",
            "They warm our hearts with their love so strong\n",
            "Let’s celebrate their great-ness, they’re one of a kind\n",
            "Our llamas are forever, our llama loves shine\n",
            "\n",
            "A 5-year-old child's review of above song:\u001b[0m\n",
            "\n",
            "\u001b[1m> Finished chain.\u001b[0m\n",
            "\n",
            "\u001b[1m> Finished chain.\u001b[0m\n",
            "\n",
            "\n",
            "This song is so cool! I love it! It talks about llamas and how awesome they are. It's so nice to know that there are animals out there like llamas that bring us so much joy. The lyrics are really catchy and I can't stop singing it. I can't wait to learn more about llamas and show my friends how amazing they are!\n"
          ]
        }
      ]
    },
    {
      "cell_type": "markdown",
      "source": [
        "---\n",
        "If you learned something, consider following me at [https://twitter.com/aigen__](https://twitter.com/aigen__)"
      ],
      "metadata": {
        "id": "hJh06v7rxcww"
      }
    },
    {
      "cell_type": "code",
      "source": [],
      "metadata": {
        "id": "G_1pwbrWxdU4"
      },
      "execution_count": null,
      "outputs": []
    }
  ]
}